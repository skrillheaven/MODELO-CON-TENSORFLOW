{
 "cells": [
  {
   "cell_type": "markdown",
   "metadata": {},
   "source": [
    "# MODELO CON  TENSORFLOW\n",
    "Elaborado por ALBERTO CRUZ \n",
    "\n",
    "ITSAV MEDLLIN 8 SEMESTRE ING. SISTEMAS COMPUTACIONALES  \n",
    "\n",
    "Para iniciar con nuestro proyecto, primero necesitamos instalar tensorflow en python para poder hacer uso de este"
   ]
  },
  {
   "cell_type": "code",
   "execution_count": null,
   "metadata": {},
   "outputs": [],
   "source": [
    "#instalacion de tensorflow\n",
    "%pip install tensorflow"
   ]
  },
  {
   "cell_type": "markdown",
   "metadata": {},
   "source": [
    "<img src=\"imagenes/tensor1.jpg\">"
   ]
  },
  {
   "cell_type": "code",
   "execution_count": null,
   "metadata": {},
   "outputs": [],
   "source": [
    "#Actualizamos pip install \n",
    "%pip install --upgrade pip"
   ]
  },
  {
   "cell_type": "markdown",
   "metadata": {},
   "source": [
    "<img src=\"imagenes/tensor2.jpg\">"
   ]
  },
  {
   "cell_type": "markdown",
   "metadata": {},
   "source": [
    "### Una vez instalado tensorflow, usaremos un data set que tensorflow usa"
   ]
  },
  {
   "cell_type": "code",
   "execution_count": null,
   "metadata": {},
   "outputs": [],
   "source": [
    "#importando el data\n",
    "#from tensorflow.examples.tutorials.mnist import input_data\n",
    "import tensorflow.compat.v1 as tf\n",
    "#dehabilitando la version 2 de tensorflow ya que place holder no se identificaba como\n",
    "tf.disable_v2_behavior() \n",
    "# IMPORTAR EL DATA DE MNIST\n",
    "mnist = tf.keras.datasets.mnist.load_data(path='mnist.npz')\n"
   ]
  },
  {
   "cell_type": "markdown",
   "metadata": {},
   "source": [
    "<img src=\"imagenes/tensor3.jpg\">\n",
    "<img src=\"imagenes/tensor6.jpg\">"
   ]
  },
  {
   "cell_type": "markdown",
   "metadata": {},
   "source": [
    "###  Creamos un placeholder, para las imagenes de 28 x 28 px , por lo que son 784 px, eso requerimos para nuestra matriz"
   ]
  },
  {
   "cell_type": "code",
   "execution_count": null,
   "metadata": {},
   "outputs": [],
   "source": [
    "x =tf.placeholder(tf.float32,[None,784])\n",
    "w= tf.Variable(tf.zeros([784,10]))\n",
    "b= tf.Variable(tf.zeros([10]))\n",
    "\n",
    "#se inicializa el modelo, conla variable y y ponemos elalgoritmo a utilizar\n",
    "\n",
    "y = tf.nn.softmax(tf.matmul(x,w)+b)\n",
    "\n",
    "y_= tf.placeholder(tf.float32,[None,10])\n",
    "\n",
    "cross_entropy =tf.reduce_mean(-tf.reduce_sum(y_*tf.log(y),reduction_indices=[1]))\n",
    "\n",
    "#entrenando el algoritmo, por medio de train que es un optimizador de datos\n",
    "#uso de optimizador de datos para mejorar el resultado asi los valores seran consistentes\n",
    "train_step = tf.train.GradientDescentOptimizer(0.05).minimize(cross_entropy)\n",
    "\n",
    "\n",
    "\n",
    "\n"
   ]
  },
  {
   "cell_type": "markdown",
   "metadata": {},
   "source": [
    "### Iniciaremos una sesion interactiva con sensorflow"
   ]
  },
  {
   "cell_type": "code",
   "execution_count": null,
   "metadata": {},
   "outputs": [],
   "source": [
    "#iniciando sessiom\n",
    "\n",
    "sess= tf.InteractiveSession()"
   ]
  },
  {
   "cell_type": "markdown",
   "metadata": {},
   "source": [
    "### iniciando entrenamiento"
   ]
  },
  {
   "cell_type": "code",
   "execution_count": null,
   "metadata": {},
   "outputs": [],
   "source": [
    "#inicalizando variables globales\n",
    "\n",
    "tf.global_variables_initializer().run()\n",
    "\n",
    "batch_xs=0\n",
    "batch_ys=0\n",
    "#recorrremos los datos\n",
    "for _ in range(1000):\n",
    "    #se crea variable para ejecutar x y Y\n",
    "    batch_xs,batch_ys = mnist.train.next_batch[100]\n",
    "    \n",
    "    sess.run(train_step, feed_dict={x: batch_xs, y_:batch_ys})\n",
    "    "
   ]
  },
  {
   "cell_type": "markdown",
   "metadata": {},
   "source": [
    "luego de varias busquedas se intento arreglar el siguiente error: sin resultados, por lo que se siguio haciendo el codigo aun que no funcional\n",
    "\n",
    "<img src=\"imagenes/tensor4.jpg\">"
   ]
  },
  {
   "cell_type": "markdown",
   "metadata": {},
   "source": [
    "** NOTA: se soluciono el problema de la importancion con el mnist, pero ahora hay detalles con 'train' y tuple\n",
    "<img src=\"imagenes/tensor5.jpg\">"
   ]
  },
  {
   "cell_type": "markdown",
   "metadata": {},
   "source": [
    "### continuando con el resto del codigo:\n",
    "#### Calculando el nivel de prediccion"
   ]
  },
  {
   "cell_type": "code",
   "execution_count": null,
   "metadata": {},
   "outputs": [],
   "source": [
    "#se compara lo que predijimos con la imagen\n",
    "correct_prediction=tf.equal(tf.argmax(y,1),tf.arg_max(y_,1))\n",
    "#variable precision\n",
    "accuracy = tf.reduce_mean(tf.cast(correct_prediction,tf.float32))\n",
    "\n"
   ]
  },
  {
   "cell_type": "markdown",
   "metadata": {},
   "source": [
    "## IMPRIMIENDDO PREDICCION"
   ]
  },
  {
   "cell_type": "code",
   "execution_count": null,
   "metadata": {},
   "outputs": [],
   "source": [
    "print(sess.run(accuracy,feed_dict={x:mnist.test.images, y_:mnist.test.labels}))"
   ]
  },
  {
   "cell_type": "markdown",
   "metadata": {},
   "source": [
    "Claro que no tendremos la prediccion ya que tenemos un problema arrastrando arriba, esperamos que podamos solucionarlo en clase\n",
    "<img src=\"imagenes/tensor7.jpg\">"
   ]
  },
  {
   "cell_type": "markdown",
   "metadata": {},
   "source": [
    "## Fuentes de consulta y soluciones\n",
    "\n",
    "<a href=\"https://stackoverflow.com/questions/37383812/tensorflow-module-object-has-no-attribute-placeholder\">TensorFlow, \"'module' object has no attribute 'placeholder'\"</a>\n",
    "\n",
    "<a href=\"https://www.tensorflow.org/guide/effective_tf2\">Effective Tensorflow 2</a>\n",
    "\n",
    "<a href=\"https://www.learndatasci.com/solutions/python-attributeerror-tuple-object-has-no-attribute/\">Python AttributeError: 'tuple' object has no attribute</a>\n",
    "\n",
    "<a href=\"https://pythonguides.com/tensorflow-next_batch/\">TensorFlow next_batch + Examples</a>\n",
    "\n",
    "<a href=\"https://www.tensorflow.org/api_docs/python/tf/keras/datasets/mnist/load_data\">tf.keras.datasets.mnist.load_data</a>\n",
    "\n",
    "\n"
   ]
  }
 ],
 "metadata": {
  "interpreter": {
   "hash": "f500c8142be14955e4aa713b927e242e5a8c22ae8696407e12efb6dadcf5f629"
  },
  "kernelspec": {
   "display_name": "Python 3.10.2 64-bit (windows store)",
   "language": "python",
   "name": "python3"
  },
  "language_info": {
   "codemirror_mode": {
    "name": "ipython",
    "version": 3
   },
   "file_extension": ".py",
   "mimetype": "text/x-python",
   "name": "python",
   "nbconvert_exporter": "python",
   "pygments_lexer": "ipython3",
   "version": "3.10.2"
  },
  "orig_nbformat": 4
 },
 "nbformat": 4,
 "nbformat_minor": 2
}
